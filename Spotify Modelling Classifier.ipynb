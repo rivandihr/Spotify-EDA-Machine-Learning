{
 "cells": [
  {
   "cell_type": "code",
   "execution_count": 1,
   "metadata": {},
   "outputs": [],
   "source": [
    "import pandas as pd\n",
    "import numpy as np\n",
    "import seaborn as sns\n",
    "import matplotlib.pyplot as plt\n",
    "import warnings\n",
    "warnings.filterwarnings(\"ignore\")"
   ]
  },
  {
   "cell_type": "code",
   "execution_count": 2,
   "metadata": {},
   "outputs": [],
   "source": [
    "df = pd.read_csv('SpotifyFeatures.csv')"
   ]
  },
  {
   "cell_type": "markdown",
   "metadata": {},
   "source": [
    "## Data Preprocessing "
   ]
  },
  {
   "cell_type": "code",
   "execution_count": 3,
   "metadata": {},
   "outputs": [],
   "source": [
    "df2 = pd.get_dummies(df,columns=['genre'])"
   ]
  },
  {
   "cell_type": "code",
   "execution_count": null,
   "metadata": {},
   "outputs": [],
   "source": []
  },
  {
   "cell_type": "code",
   "execution_count": 4,
   "metadata": {},
   "outputs": [],
   "source": [
    "keylists = df['key'].unique()\n",
    "for i in range(len(keylists)):\n",
    "    df.loc[df['key'] == keylists[i], 'key'] = i\n",
    "\n",
    "df.loc[df[\"mode\"] == 'Major', \"mode\"] = 1\n",
    "df.loc[df[\"mode\"] == 'Minor', \"mode\"] = 0\n",
    "\n",
    "time_signature = df['time_signature'].unique()\n",
    "for item in range(len(time_signature)):\n",
    "    df.loc[df['time_signature']==time_signature[item],'time_signature'] = item"
   ]
  },
  {
   "cell_type": "code",
   "execution_count": 5,
   "metadata": {},
   "outputs": [],
   "source": [
    "pop_class= []\n",
    "for item in df['popularity']:\n",
    "    if(item >= 0 and item <= 50):\n",
    "        pop_class.append('Not Popular')\n",
    "    elif(item >= 51 and item <= 100):\n",
    "        pop_class.append('Popular')\n",
    "\n",
    "df['popularity_class'] = pop_class"
   ]
  },
  {
   "cell_type": "code",
   "execution_count": 6,
   "metadata": {},
   "outputs": [
    {
     "data": {
      "text/plain": [
       "Not Popular    0.657957\n",
       "Popular        0.342043\n",
       "Name: popularity_class, dtype: float64"
      ]
     },
     "execution_count": 6,
     "metadata": {},
     "output_type": "execute_result"
    }
   ],
   "source": [
    "df.popularity_class.value_counts(normalize=True)"
   ]
  },
  {
   "cell_type": "code",
   "execution_count": 7,
   "metadata": {},
   "outputs": [],
   "source": [
    "df2 = pd.get_dummies(df,columns=['genre'])"
   ]
  },
  {
   "cell_type": "code",
   "execution_count": 8,
   "metadata": {},
   "outputs": [
    {
     "name": "stderr",
     "output_type": "stream",
     "text": [
      "Using TensorFlow backend.\n"
     ]
    }
   ],
   "source": [
    "from sklearn.model_selection import train_test_split\n",
    "from sklearn.linear_model import LogisticRegression\n",
    "from sklearn.tree import DecisionTreeClassifier\n",
    "from sklearn.ensemble import RandomForestClassifier,GradientBoostingClassifier\n",
    "from sklearn.metrics import classification_report,accuracy_score\n",
    "from xgboost import XGBClassifier\n",
    "from imblearn.over_sampling import RandomOverSampler, SMOTE"
   ]
  },
  {
   "cell_type": "code",
   "execution_count": 52,
   "metadata": {},
   "outputs": [],
   "source": [
    "x = df2.drop(['artist_name','track_name','track_id','popularity','popularity_class'],axis=1)\n",
    "y = df2['popularity_class']"
   ]
  },
  {
   "cell_type": "code",
   "execution_count": 53,
   "metadata": {},
   "outputs": [],
   "source": [
    "def report(x,y,model):\n",
    "    X_train,X_test,y_train,y_test = train_test_split(x,y)\n",
    "    cr = model()\n",
    "    cr.fit(X_train,y_train)\n",
    "    \n",
    "    prediction_test = cr.predict(X_test)\n",
    "    prediction_train = cr.predict(X_train)\n",
    "    print('Class Report Data Test')\n",
    "    print(classification_report(y_test,prediction_test))\n",
    "    print('=====================================================')\n",
    "    print('Class Report Data Train')\n",
    "    print(classification_report(y_train,prediction_train))"
   ]
  },
  {
   "cell_type": "code",
   "execution_count": 54,
   "metadata": {},
   "outputs": [
    {
     "name": "stdout",
     "output_type": "stream",
     "text": [
      "Class Report Data Test\n",
      "              precision    recall  f1-score   support\n",
      "\n",
      " Not Popular       0.66      1.00      0.79     38296\n",
      "     Popular       0.00      0.00      0.00     19886\n",
      "\n",
      "    accuracy                           0.66     58182\n",
      "   macro avg       0.33      0.50      0.40     58182\n",
      "weighted avg       0.43      0.66      0.52     58182\n",
      "\n",
      "=====================================================\n",
      "Class Report Data Train\n",
      "              precision    recall  f1-score   support\n",
      "\n",
      " Not Popular       0.66      1.00      0.79    114827\n",
      "     Popular       0.00      0.00      0.00     59716\n",
      "\n",
      "    accuracy                           0.66    174543\n",
      "   macro avg       0.33      0.50      0.40    174543\n",
      "weighted avg       0.43      0.66      0.52    174543\n",
      "\n"
     ]
    }
   ],
   "source": [
    "report(x,y,LogisticRegression)"
   ]
  },
  {
   "cell_type": "code",
   "execution_count": 55,
   "metadata": {},
   "outputs": [
    {
     "name": "stdout",
     "output_type": "stream",
     "text": [
      "Class Report Data Test\n",
      "              precision    recall  f1-score   support\n",
      "\n",
      " Not Popular       0.84      0.84      0.84     38193\n",
      "     Popular       0.69      0.69      0.69     19989\n",
      "\n",
      "    accuracy                           0.78     58182\n",
      "   macro avg       0.76      0.76      0.76     58182\n",
      "weighted avg       0.78      0.78      0.78     58182\n",
      "\n",
      "=====================================================\n",
      "Class Report Data Train\n",
      "              precision    recall  f1-score   support\n",
      "\n",
      " Not Popular       1.00      1.00      1.00    114930\n",
      "     Popular       1.00      1.00      1.00     59613\n",
      "\n",
      "    accuracy                           1.00    174543\n",
      "   macro avg       1.00      1.00      1.00    174543\n",
      "weighted avg       1.00      1.00      1.00    174543\n",
      "\n"
     ]
    }
   ],
   "source": [
    "report(x,y,DecisionTreeClassifier)"
   ]
  },
  {
   "cell_type": "code",
   "execution_count": 56,
   "metadata": {},
   "outputs": [
    {
     "name": "stdout",
     "output_type": "stream",
     "text": [
      "Class Report Data Test\n",
      "              precision    recall  f1-score   support\n",
      "\n",
      " Not Popular       0.85      0.93      0.89     38421\n",
      "     Popular       0.84      0.69      0.75     19761\n",
      "\n",
      "    accuracy                           0.85     58182\n",
      "   macro avg       0.85      0.81      0.82     58182\n",
      "weighted avg       0.85      0.85      0.84     58182\n",
      "\n",
      "=====================================================\n",
      "Class Report Data Train\n",
      "              precision    recall  f1-score   support\n",
      "\n",
      " Not Popular       0.85      0.93      0.89    114702\n",
      "     Popular       0.84      0.69      0.76     59841\n",
      "\n",
      "    accuracy                           0.85    174543\n",
      "   macro avg       0.85      0.81      0.82    174543\n",
      "weighted avg       0.85      0.85      0.84    174543\n",
      "\n"
     ]
    }
   ],
   "source": [
    "report(x,y,GradientBoostingClassifier)"
   ]
  },
  {
   "cell_type": "code",
   "execution_count": 57,
   "metadata": {},
   "outputs": [
    {
     "name": "stdout",
     "output_type": "stream",
     "text": [
      "Class Report Data Test\n",
      "              precision    recall  f1-score   support\n",
      "\n",
      " Not Popular       0.85      0.93      0.89     38144\n",
      "     Popular       0.84      0.68      0.75     20038\n",
      "\n",
      "    accuracy                           0.85     58182\n",
      "   macro avg       0.85      0.81      0.82     58182\n",
      "weighted avg       0.85      0.85      0.84     58182\n",
      "\n",
      "=====================================================\n",
      "Class Report Data Train\n",
      "              precision    recall  f1-score   support\n",
      "\n",
      " Not Popular       0.85      0.93      0.89    114979\n",
      "     Popular       0.84      0.68      0.75     59564\n",
      "\n",
      "    accuracy                           0.85    174543\n",
      "   macro avg       0.85      0.81      0.82    174543\n",
      "weighted avg       0.85      0.85      0.84    174543\n",
      "\n"
     ]
    }
   ],
   "source": [
    "report(x,y,XGBClassifier)"
   ]
  },
  {
   "cell_type": "markdown",
   "metadata": {},
   "source": [
    "## Undersampling "
   ]
  },
  {
   "cell_type": "code",
   "execution_count": 15,
   "metadata": {},
   "outputs": [],
   "source": [
    "data_minor = df2[df2['popularity_class'] == 'Popular']\n",
    "data_mayor = df2[df2['popularity_class'] == 'Not Popular']"
   ]
  },
  {
   "cell_type": "code",
   "execution_count": 16,
   "metadata": {},
   "outputs": [
    {
     "data": {
      "text/plain": [
       "79602"
      ]
     },
     "execution_count": 16,
     "metadata": {},
     "output_type": "execute_result"
    }
   ],
   "source": [
    "len(data_minor)"
   ]
  },
  {
   "cell_type": "code",
   "execution_count": 17,
   "metadata": {},
   "outputs": [],
   "source": [
    "data_mayor_index = np.random.choice(data_mayor.index, len(data_minor))"
   ]
  },
  {
   "cell_type": "code",
   "execution_count": 18,
   "metadata": {},
   "outputs": [],
   "source": [
    "df_class_mayor = df2.loc[data_mayor_index]"
   ]
  },
  {
   "cell_type": "code",
   "execution_count": 19,
   "metadata": {},
   "outputs": [],
   "source": [
    "undersample_df = pd.concat([df_class_mayor,data_minor])"
   ]
  },
  {
   "cell_type": "code",
   "execution_count": 20,
   "metadata": {},
   "outputs": [
    {
     "data": {
      "text/plain": [
       "Not Popular    0.5\n",
       "Popular        0.5\n",
       "Name: popularity_class, dtype: float64"
      ]
     },
     "execution_count": 20,
     "metadata": {},
     "output_type": "execute_result"
    }
   ],
   "source": [
    "undersample_df['popularity_class'].value_counts(normalize=True)"
   ]
  },
  {
   "cell_type": "markdown",
   "metadata": {},
   "source": [
    "## Undersampled Modelling "
   ]
  },
  {
   "cell_type": "code",
   "execution_count": 59,
   "metadata": {},
   "outputs": [],
   "source": [
    "x_under = undersample_df.drop(['artist_name','track_name','track_id','popularity','popularity_class'],axis=1)\n",
    "y_under = undersample_df['popularity_class']"
   ]
  },
  {
   "cell_type": "code",
   "execution_count": 60,
   "metadata": {},
   "outputs": [
    {
     "name": "stdout",
     "output_type": "stream",
     "text": [
      "Class Report Data Test\n",
      "              precision    recall  f1-score   support\n",
      "\n",
      " Not Popular       0.64      0.55      0.59     19930\n",
      "     Popular       0.60      0.69      0.64     19871\n",
      "\n",
      "    accuracy                           0.62     39801\n",
      "   macro avg       0.62      0.62      0.62     39801\n",
      "weighted avg       0.62      0.62      0.62     39801\n",
      "\n",
      "=====================================================\n",
      "Class Report Data Train\n",
      "              precision    recall  f1-score   support\n",
      "\n",
      " Not Popular       0.64      0.55      0.59     59672\n",
      "     Popular       0.61      0.69      0.65     59731\n",
      "\n",
      "    accuracy                           0.62    119403\n",
      "   macro avg       0.62      0.62      0.62    119403\n",
      "weighted avg       0.62      0.62      0.62    119403\n",
      "\n"
     ]
    }
   ],
   "source": [
    "report(x_under,y_under,LogisticRegression)"
   ]
  },
  {
   "cell_type": "code",
   "execution_count": 61,
   "metadata": {},
   "outputs": [
    {
     "name": "stdout",
     "output_type": "stream",
     "text": [
      "Class Report Data Test\n",
      "              precision    recall  f1-score   support\n",
      "\n",
      " Not Popular       0.80      0.82      0.81     19916\n",
      "     Popular       0.82      0.79      0.80     19885\n",
      "\n",
      "    accuracy                           0.81     39801\n",
      "   macro avg       0.81      0.81      0.81     39801\n",
      "weighted avg       0.81      0.81      0.81     39801\n",
      "\n",
      "=====================================================\n",
      "Class Report Data Train\n",
      "              precision    recall  f1-score   support\n",
      "\n",
      " Not Popular       1.00      1.00      1.00     59686\n",
      "     Popular       1.00      1.00      1.00     59717\n",
      "\n",
      "    accuracy                           1.00    119403\n",
      "   macro avg       1.00      1.00      1.00    119403\n",
      "weighted avg       1.00      1.00      1.00    119403\n",
      "\n"
     ]
    }
   ],
   "source": [
    "report(x_under,y_under,DecisionTreeClassifier)"
   ]
  },
  {
   "cell_type": "code",
   "execution_count": 62,
   "metadata": {},
   "outputs": [
    {
     "name": "stdout",
     "output_type": "stream",
     "text": [
      "Class Report Data Test\n",
      "              precision    recall  f1-score   support\n",
      "\n",
      " Not Popular       0.83      0.89      0.86     19990\n",
      "     Popular       0.88      0.82      0.85     19811\n",
      "\n",
      "    accuracy                           0.85     39801\n",
      "   macro avg       0.86      0.85      0.85     39801\n",
      "weighted avg       0.86      0.85      0.85     39801\n",
      "\n",
      "=====================================================\n",
      "Class Report Data Train\n",
      "              precision    recall  f1-score   support\n",
      "\n",
      " Not Popular       0.99      1.00      0.99     59612\n",
      "     Popular       1.00      0.99      0.99     59791\n",
      "\n",
      "    accuracy                           0.99    119403\n",
      "   macro avg       0.99      0.99      0.99    119403\n",
      "weighted avg       0.99      0.99      0.99    119403\n",
      "\n"
     ]
    }
   ],
   "source": [
    "report(x_under,y_under,RandomForestClassifier)"
   ]
  },
  {
   "cell_type": "code",
   "execution_count": 63,
   "metadata": {},
   "outputs": [
    {
     "name": "stdout",
     "output_type": "stream",
     "text": [
      "Class Report Data Test\n",
      "              precision    recall  f1-score   support\n",
      "\n",
      " Not Popular       0.81      0.87      0.84     19933\n",
      "     Popular       0.86      0.80      0.83     19868\n",
      "\n",
      "    accuracy                           0.83     39801\n",
      "   macro avg       0.84      0.83      0.83     39801\n",
      "weighted avg       0.84      0.83      0.83     39801\n",
      "\n",
      "=====================================================\n",
      "Class Report Data Train\n",
      "              precision    recall  f1-score   support\n",
      "\n",
      " Not Popular       0.81      0.87      0.84     59669\n",
      "     Popular       0.86      0.80      0.83     59734\n",
      "\n",
      "    accuracy                           0.83    119403\n",
      "   macro avg       0.84      0.83      0.83    119403\n",
      "weighted avg       0.84      0.83      0.83    119403\n",
      "\n"
     ]
    }
   ],
   "source": [
    "report(x_under,y_under,XGBClassifier)"
   ]
  },
  {
   "cell_type": "code",
   "execution_count": 64,
   "metadata": {},
   "outputs": [
    {
     "name": "stdout",
     "output_type": "stream",
     "text": [
      "Class Report Data Test\n",
      "              precision    recall  f1-score   support\n",
      "\n",
      " Not Popular       0.82      0.86      0.84     19968\n",
      "     Popular       0.85      0.81      0.83     19833\n",
      "\n",
      "    accuracy                           0.84     39801\n",
      "   macro avg       0.84      0.84      0.84     39801\n",
      "weighted avg       0.84      0.84      0.84     39801\n",
      "\n",
      "=====================================================\n",
      "Class Report Data Train\n",
      "              precision    recall  f1-score   support\n",
      "\n",
      " Not Popular       0.82      0.86      0.84     59634\n",
      "     Popular       0.85      0.81      0.83     59769\n",
      "\n",
      "    accuracy                           0.84    119403\n",
      "   macro avg       0.84      0.84      0.84    119403\n",
      "weighted avg       0.84      0.84      0.84    119403\n",
      "\n"
     ]
    }
   ],
   "source": [
    "report(x_under,y_under,GradientBoostingClassifier)"
   ]
  },
  {
   "cell_type": "markdown",
   "metadata": {},
   "source": [
    "## Oversampling "
   ]
  },
  {
   "cell_type": "code",
   "execution_count": 27,
   "metadata": {},
   "outputs": [],
   "source": [
    "ros = RandomOverSampler()\n",
    "xros, yros = ros.fit_sample(x,y)"
   ]
  },
  {
   "cell_type": "code",
   "execution_count": 28,
   "metadata": {},
   "outputs": [],
   "source": [
    "df_over_all = pd.DataFrame(xros,columns=x.columns)\n",
    "df_over_all['popularity_class'] = yros"
   ]
  },
  {
   "cell_type": "code",
   "execution_count": 29,
   "metadata": {},
   "outputs": [
    {
     "data": {
      "text/plain": [
       "Not Popular    153123\n",
       "Popular        153123\n",
       "Name: popularity_class, dtype: int64"
      ]
     },
     "execution_count": 29,
     "metadata": {},
     "output_type": "execute_result"
    }
   ],
   "source": [
    "df_over_all['popularity_class'].value_counts()"
   ]
  },
  {
   "cell_type": "code",
   "execution_count": 66,
   "metadata": {},
   "outputs": [],
   "source": [
    "newx, newy = df_over_all.drop(['popularity_class','popularity'],axis=1), df_over_all['popularity_class']"
   ]
  },
  {
   "cell_type": "code",
   "execution_count": 67,
   "metadata": {},
   "outputs": [
    {
     "name": "stdout",
     "output_type": "stream",
     "text": [
      "Class Report Data Test\n",
      "              precision    recall  f1-score   support\n",
      "\n",
      " Not Popular       0.64      0.55      0.59     38282\n",
      "     Popular       0.60      0.68      0.64     38280\n",
      "\n",
      "    accuracy                           0.62     76562\n",
      "   macro avg       0.62      0.62      0.62     76562\n",
      "weighted avg       0.62      0.62      0.62     76562\n",
      "\n",
      "=====================================================\n",
      "Class Report Data Train\n",
      "              precision    recall  f1-score   support\n",
      "\n",
      " Not Popular       0.64      0.56      0.59    114841\n",
      "     Popular       0.61      0.68      0.64    114843\n",
      "\n",
      "    accuracy                           0.62    229684\n",
      "   macro avg       0.62      0.62      0.62    229684\n",
      "weighted avg       0.62      0.62      0.62    229684\n",
      "\n"
     ]
    }
   ],
   "source": [
    "report(newx,newy,LogisticRegression)"
   ]
  },
  {
   "cell_type": "code",
   "execution_count": 68,
   "metadata": {},
   "outputs": [
    {
     "name": "stdout",
     "output_type": "stream",
     "text": [
      "Class Report Data Test\n",
      "              precision    recall  f1-score   support\n",
      "\n",
      " Not Popular       0.91      0.88      0.90     38160\n",
      "     Popular       0.89      0.91      0.90     38402\n",
      "\n",
      "    accuracy                           0.90     76562\n",
      "   macro avg       0.90      0.90      0.90     76562\n",
      "weighted avg       0.90      0.90      0.90     76562\n",
      "\n",
      "=====================================================\n",
      "Class Report Data Train\n",
      "              precision    recall  f1-score   support\n",
      "\n",
      " Not Popular       0.99      1.00      0.99    114963\n",
      "     Popular       1.00      0.99      0.99    114721\n",
      "\n",
      "    accuracy                           0.99    229684\n",
      "   macro avg       0.99      0.99      0.99    229684\n",
      "weighted avg       0.99      0.99      0.99    229684\n",
      "\n"
     ]
    }
   ],
   "source": [
    "report(newx,newy,RandomForestClassifier)"
   ]
  },
  {
   "cell_type": "code",
   "execution_count": 69,
   "metadata": {},
   "outputs": [
    {
     "name": "stdout",
     "output_type": "stream",
     "text": [
      "Class Report Data Test\n",
      "              precision    recall  f1-score   support\n",
      "\n",
      " Not Popular       0.90      0.82      0.86     38270\n",
      "     Popular       0.83      0.90      0.87     38292\n",
      "\n",
      "    accuracy                           0.86     76562\n",
      "   macro avg       0.86      0.86      0.86     76562\n",
      "weighted avg       0.86      0.86      0.86     76562\n",
      "\n",
      "=====================================================\n",
      "Class Report Data Train\n",
      "              precision    recall  f1-score   support\n",
      "\n",
      " Not Popular       1.00      1.00      1.00    114853\n",
      "     Popular       1.00      1.00      1.00    114831\n",
      "\n",
      "    accuracy                           1.00    229684\n",
      "   macro avg       1.00      1.00      1.00    229684\n",
      "weighted avg       1.00      1.00      1.00    229684\n",
      "\n"
     ]
    }
   ],
   "source": [
    "report(newx,newy,DecisionTreeClassifier)"
   ]
  },
  {
   "cell_type": "code",
   "execution_count": 70,
   "metadata": {},
   "outputs": [
    {
     "name": "stdout",
     "output_type": "stream",
     "text": [
      "Class Report Data Test\n",
      "              precision    recall  f1-score   support\n",
      "\n",
      " Not Popular       0.82      0.86      0.84     38332\n",
      "     Popular       0.85      0.81      0.83     38230\n",
      "\n",
      "    accuracy                           0.83     76562\n",
      "   macro avg       0.83      0.83      0.83     76562\n",
      "weighted avg       0.83      0.83      0.83     76562\n",
      "\n",
      "=====================================================\n",
      "Class Report Data Train\n",
      "              precision    recall  f1-score   support\n",
      "\n",
      " Not Popular       0.82      0.86      0.84    114791\n",
      "     Popular       0.85      0.82      0.83    114893\n",
      "\n",
      "    accuracy                           0.84    229684\n",
      "   macro avg       0.84      0.84      0.84    229684\n",
      "weighted avg       0.84      0.84      0.84    229684\n",
      "\n"
     ]
    }
   ],
   "source": [
    "report(newx,newy,GradientBoostingClassifier)"
   ]
  },
  {
   "cell_type": "code",
   "execution_count": 71,
   "metadata": {},
   "outputs": [
    {
     "name": "stdout",
     "output_type": "stream",
     "text": [
      "Class Report Data Test\n",
      "              precision    recall  f1-score   support\n",
      "\n",
      " Not Popular       0.82      0.86      0.84     38210\n",
      "     Popular       0.86      0.81      0.83     38352\n",
      "\n",
      "    accuracy                           0.83     76562\n",
      "   macro avg       0.84      0.83      0.83     76562\n",
      "weighted avg       0.84      0.83      0.83     76562\n",
      "\n",
      "=====================================================\n",
      "Class Report Data Train\n",
      "              precision    recall  f1-score   support\n",
      "\n",
      " Not Popular       0.81      0.86      0.84    114913\n",
      "     Popular       0.85      0.80      0.83    114771\n",
      "\n",
      "    accuracy                           0.83    229684\n",
      "   macro avg       0.83      0.83      0.83    229684\n",
      "weighted avg       0.83      0.83      0.83    229684\n",
      "\n"
     ]
    }
   ],
   "source": [
    "report(newx,newy,XGBClassifier)"
   ]
  },
  {
   "cell_type": "code",
   "execution_count": 36,
   "metadata": {},
   "outputs": [],
   "source": [
    "def report_oversampling(x,y,model):\n",
    "    X_train,X_test,y_train,y_test = train_test_split(x,y)\n",
    "    cr = model()\n",
    "    ros = RandomOverSampler()\n",
    "    xros, yros = ros.fit_sample(X_train,y_train)\n",
    "    \n",
    "    cr.fit(xros,yros)\n",
    "    \n",
    "    prediction_test = cr.predict(X_test)\n",
    "    prediction_train = cr.predict(xros)\n",
    "    print('Class Report Data Test')\n",
    "    print(classification_report(y_test,prediction_test))\n",
    "    print('====================')\n",
    "    print('Class Report Data Train')\n",
    "    print(classification_report(yros,prediction_train))"
   ]
  },
  {
   "cell_type": "code",
   "execution_count": 37,
   "metadata": {},
   "outputs": [
    {
     "name": "stdout",
     "output_type": "stream",
     "text": [
      "Class Report Data Test\n",
      "              precision    recall  f1-score   support\n",
      "\n",
      " Not Popular       1.00      1.00      1.00     38327\n",
      "     Popular       1.00      1.00      1.00     19855\n",
      "\n",
      "    accuracy                           1.00     58182\n",
      "   macro avg       1.00      1.00      1.00     58182\n",
      "weighted avg       1.00      1.00      1.00     58182\n",
      "\n",
      "====================\n",
      "Class Report Data Train\n",
      "              precision    recall  f1-score   support\n",
      "\n",
      " Not Popular       1.00      1.00      1.00    114796\n",
      "     Popular       1.00      1.00      1.00    114796\n",
      "\n",
      "    accuracy                           1.00    229592\n",
      "   macro avg       1.00      1.00      1.00    229592\n",
      "weighted avg       1.00      1.00      1.00    229592\n",
      "\n"
     ]
    }
   ],
   "source": [
    "report_oversampling(x,y,DecisionTreeClassifier)"
   ]
  },
  {
   "cell_type": "code",
   "execution_count": 38,
   "metadata": {},
   "outputs": [
    {
     "name": "stdout",
     "output_type": "stream",
     "text": [
      "Class Report Data Test\n",
      "              precision    recall  f1-score   support\n",
      "\n",
      " Not Popular       1.00      1.00      1.00     38208\n",
      "     Popular       1.00      1.00      1.00     19974\n",
      "\n",
      "    accuracy                           1.00     58182\n",
      "   macro avg       1.00      1.00      1.00     58182\n",
      "weighted avg       1.00      1.00      1.00     58182\n",
      "\n",
      "====================\n",
      "Class Report Data Train\n",
      "              precision    recall  f1-score   support\n",
      "\n",
      " Not Popular       1.00      1.00      1.00    114915\n",
      "     Popular       1.00      1.00      1.00    114915\n",
      "\n",
      "    accuracy                           1.00    229830\n",
      "   macro avg       1.00      1.00      1.00    229830\n",
      "weighted avg       1.00      1.00      1.00    229830\n",
      "\n"
     ]
    }
   ],
   "source": [
    "report_oversampling(x,y,RandomForestClassifier)"
   ]
  },
  {
   "cell_type": "markdown",
   "metadata": {},
   "source": [
    "## SMOTE "
   ]
  },
  {
   "cell_type": "code",
   "execution_count": 39,
   "metadata": {},
   "outputs": [],
   "source": [
    "smot = SMOTE()"
   ]
  },
  {
   "cell_type": "code",
   "execution_count": 40,
   "metadata": {},
   "outputs": [],
   "source": [
    "xsm,ysm = smot.fit_sample(x,y)"
   ]
  },
  {
   "cell_type": "code",
   "execution_count": 41,
   "metadata": {},
   "outputs": [],
   "source": [
    "df_smote = pd.DataFrame(xsm,columns=x.columns)\n",
    "df_smote['popularity_class'] = ysm"
   ]
  },
  {
   "cell_type": "code",
   "execution_count": 42,
   "metadata": {},
   "outputs": [
    {
     "data": {
      "text/plain": [
       "Not Popular    153123\n",
       "Popular        153123\n",
       "Name: popularity_class, dtype: int64"
      ]
     },
     "execution_count": 42,
     "metadata": {},
     "output_type": "execute_result"
    }
   ],
   "source": [
    "df_smote['popularity_class'].value_counts()"
   ]
  },
  {
   "cell_type": "code",
   "execution_count": 43,
   "metadata": {},
   "outputs": [],
   "source": [
    "newx_smote,newy_smote = df_smote.drop('popularity_class',axis=1), df_smote['popularity_class']"
   ]
  },
  {
   "cell_type": "code",
   "execution_count": 44,
   "metadata": {},
   "outputs": [
    {
     "name": "stdout",
     "output_type": "stream",
     "text": [
      "Class Report Data Test\n",
      "              precision    recall  f1-score   support\n",
      "\n",
      " Not Popular       1.00      1.00      1.00     38368\n",
      "     Popular       1.00      1.00      1.00     38194\n",
      "\n",
      "    accuracy                           1.00     76562\n",
      "   macro avg       1.00      1.00      1.00     76562\n",
      "weighted avg       1.00      1.00      1.00     76562\n",
      "\n",
      "=====================================================\n",
      "Class Report Data Train\n",
      "              precision    recall  f1-score   support\n",
      "\n",
      " Not Popular       1.00      1.00      1.00    114755\n",
      "     Popular       1.00      1.00      1.00    114929\n",
      "\n",
      "    accuracy                           1.00    229684\n",
      "   macro avg       1.00      1.00      1.00    229684\n",
      "weighted avg       1.00      1.00      1.00    229684\n",
      "\n"
     ]
    }
   ],
   "source": [
    "report(newx_smote,newy_smote,DecisionTreeClassifier)"
   ]
  },
  {
   "cell_type": "code",
   "execution_count": 45,
   "metadata": {},
   "outputs": [
    {
     "name": "stdout",
     "output_type": "stream",
     "text": [
      "Class Report Data Test\n",
      "              precision    recall  f1-score   support\n",
      "\n",
      " Not Popular       1.00      1.00      1.00     38252\n",
      "     Popular       1.00      1.00      1.00     38310\n",
      "\n",
      "    accuracy                           1.00     76562\n",
      "   macro avg       1.00      1.00      1.00     76562\n",
      "weighted avg       1.00      1.00      1.00     76562\n",
      "\n",
      "=====================================================\n",
      "Class Report Data Train\n",
      "              precision    recall  f1-score   support\n",
      "\n",
      " Not Popular       1.00      1.00      1.00    114871\n",
      "     Popular       1.00      1.00      1.00    114813\n",
      "\n",
      "    accuracy                           1.00    229684\n",
      "   macro avg       1.00      1.00      1.00    229684\n",
      "weighted avg       1.00      1.00      1.00    229684\n",
      "\n"
     ]
    }
   ],
   "source": [
    "report(newx_smote,newy_smote,RandomForestClassifier)"
   ]
  },
  {
   "cell_type": "code",
   "execution_count": 46,
   "metadata": {},
   "outputs": [],
   "source": [
    "def report_smote(x,y,model):\n",
    "    X_train,X_test,y_train,y_test = train_test_split(x,y)\n",
    "    cr = model()\n",
    "    cr.fit(X_train,y_train)\n",
    "    smot = SMOTE()\n",
    "    xsm, ysm = smot.fit_sample(X_train,y_train)\n",
    "    \n",
    "    cr.fit(xsm,ysm)\n",
    "    \n",
    "    prediction_test = cr.predict(X_test)\n",
    "    prediction_train = cr.predict(xsm)\n",
    "    print('Class Report Data Test')\n",
    "    print(classification_report(y_test,prediction_test))\n",
    "    print('=====================================================')\n",
    "    print('Class Report Data Train')\n",
    "    print(classification_report(ysm,prediction_train))"
   ]
  },
  {
   "cell_type": "code",
   "execution_count": 47,
   "metadata": {},
   "outputs": [
    {
     "name": "stdout",
     "output_type": "stream",
     "text": [
      "Class Report Data Test\n",
      "              precision    recall  f1-score   support\n",
      "\n",
      " Not Popular       0.95      0.85      0.90     38319\n",
      "     Popular       0.76      0.92      0.83     19863\n",
      "\n",
      "    accuracy                           0.87     58182\n",
      "   macro avg       0.86      0.88      0.86     58182\n",
      "weighted avg       0.89      0.87      0.88     58182\n",
      "\n",
      "=====================================================\n",
      "Class Report Data Train\n",
      "              precision    recall  f1-score   support\n",
      "\n",
      " Not Popular       0.92      0.85      0.88    114804\n",
      "     Popular       0.86      0.93      0.89    114804\n",
      "\n",
      "    accuracy                           0.89    229608\n",
      "   macro avg       0.89      0.89      0.89    229608\n",
      "weighted avg       0.89      0.89      0.89    229608\n",
      "\n"
     ]
    }
   ],
   "source": [
    "report_smote(x,y,LogisticRegression)"
   ]
  },
  {
   "cell_type": "code",
   "execution_count": 48,
   "metadata": {},
   "outputs": [
    {
     "name": "stdout",
     "output_type": "stream",
     "text": [
      "Class Report Data Test\n",
      "              precision    recall  f1-score   support\n",
      "\n",
      " Not Popular       1.00      1.00      1.00     38179\n",
      "     Popular       1.00      1.00      1.00     20003\n",
      "\n",
      "    accuracy                           1.00     58182\n",
      "   macro avg       1.00      1.00      1.00     58182\n",
      "weighted avg       1.00      1.00      1.00     58182\n",
      "\n",
      "=====================================================\n",
      "Class Report Data Train\n",
      "              precision    recall  f1-score   support\n",
      "\n",
      " Not Popular       1.00      1.00      1.00    114944\n",
      "     Popular       1.00      1.00      1.00    114944\n",
      "\n",
      "    accuracy                           1.00    229888\n",
      "   macro avg       1.00      1.00      1.00    229888\n",
      "weighted avg       1.00      1.00      1.00    229888\n",
      "\n"
     ]
    }
   ],
   "source": [
    "report_smote(x,y,DecisionTreeClassifier)"
   ]
  },
  {
   "cell_type": "code",
   "execution_count": 49,
   "metadata": {},
   "outputs": [
    {
     "name": "stdout",
     "output_type": "stream",
     "text": [
      "Class Report Data Test\n",
      "              precision    recall  f1-score   support\n",
      "\n",
      " Not Popular       1.00      1.00      1.00     38294\n",
      "     Popular       1.00      1.00      1.00     19888\n",
      "\n",
      "    accuracy                           1.00     58182\n",
      "   macro avg       1.00      1.00      1.00     58182\n",
      "weighted avg       1.00      1.00      1.00     58182\n",
      "\n",
      "=====================================================\n",
      "Class Report Data Train\n",
      "              precision    recall  f1-score   support\n",
      "\n",
      " Not Popular       1.00      1.00      1.00    114829\n",
      "     Popular       1.00      1.00      1.00    114829\n",
      "\n",
      "    accuracy                           1.00    229658\n",
      "   macro avg       1.00      1.00      1.00    229658\n",
      "weighted avg       1.00      1.00      1.00    229658\n",
      "\n"
     ]
    }
   ],
   "source": [
    "report_smote(x,y,RandomForestClassifier)"
   ]
  },
  {
   "cell_type": "code",
   "execution_count": 50,
   "metadata": {},
   "outputs": [
    {
     "name": "stdout",
     "output_type": "stream",
     "text": [
      "Class Report Data Test\n",
      "              precision    recall  f1-score   support\n",
      "\n",
      " Not Popular       1.00      1.00      1.00     38153\n",
      "     Popular       1.00      1.00      1.00     20029\n",
      "\n",
      "    accuracy                           1.00     58182\n",
      "   macro avg       1.00      1.00      1.00     58182\n",
      "weighted avg       1.00      1.00      1.00     58182\n",
      "\n",
      "=====================================================\n",
      "Class Report Data Train\n",
      "              precision    recall  f1-score   support\n",
      "\n",
      " Not Popular       1.00      1.00      1.00    114970\n",
      "     Popular       1.00      1.00      1.00    114970\n",
      "\n",
      "    accuracy                           1.00    229940\n",
      "   macro avg       1.00      1.00      1.00    229940\n",
      "weighted avg       1.00      1.00      1.00    229940\n",
      "\n"
     ]
    }
   ],
   "source": [
    "report_smote(x,y,GradientBoostingClassifier)"
   ]
  },
  {
   "cell_type": "code",
   "execution_count": null,
   "metadata": {},
   "outputs": [],
   "source": []
  },
  {
   "cell_type": "code",
   "execution_count": null,
   "metadata": {},
   "outputs": [],
   "source": []
  }
 ],
 "metadata": {
  "kernelspec": {
   "display_name": "Python 3",
   "language": "python",
   "name": "python3"
  },
  "language_info": {
   "codemirror_mode": {
    "name": "ipython",
    "version": 3
   },
   "file_extension": ".py",
   "mimetype": "text/x-python",
   "name": "python",
   "nbconvert_exporter": "python",
   "pygments_lexer": "ipython3",
   "version": "3.7.3"
  }
 },
 "nbformat": 4,
 "nbformat_minor": 2
}
